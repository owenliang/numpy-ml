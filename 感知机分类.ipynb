{
 "cells": [
  {
   "cell_type": "code",
   "execution_count": 51,
   "id": "offensive-bidding",
   "metadata": {},
   "outputs": [],
   "source": [
    "import numpy as np\n",
    "import matplotlib.pyplot as plt"
   ]
  },
  {
   "cell_type": "code",
   "execution_count": 52,
   "id": "preliminary-administrator",
   "metadata": {},
   "outputs": [],
   "source": [
    "# 读入训练数据\n",
    "train = np.loadtxt('images1.csv', delimiter=',', skiprows=1)\n",
    "train_x = train[:,:2]\n",
    "train_y = train[:,2]"
   ]
  },
  {
   "cell_type": "code",
   "execution_count": 53,
   "id": "narrow-tunisia",
   "metadata": {},
   "outputs": [],
   "source": [
    "# 分类函数 y=w1*x1+w2*x2，如果y>=0返回分类1，否则返回分类-1\n",
    "w = np.random.rand(2)\n",
    "def f(x):\n",
    "    v = np.dot(w,x.T)\n",
    "    return 1 if v >= 0 else -1"
   ]
  },
  {
   "cell_type": "code",
   "execution_count": 54,
   "id": "optical-oxygen",
   "metadata": {},
   "outputs": [
    {
     "name": "stdout",
     "output_type": "stream",
     "text": [
      "第1轮, 正确率60.00\n",
      "第2轮, 正确率90.00\n",
      "第3轮, 正确率100.00\n",
      "第4轮, 正确率100.00\n",
      "第5轮, 正确率100.00\n",
      "第6轮, 正确率100.00\n",
      "第7轮, 正确率100.00\n",
      "第8轮, 正确率100.00\n",
      "第9轮, 正确率100.00\n",
      "第10轮, 正确率100.00\n",
      "第11轮, 正确率100.00\n",
      "第12轮, 正确率100.00\n",
      "第13轮, 正确率100.00\n",
      "第14轮, 正确率100.00\n",
      "第15轮, 正确率100.00\n",
      "第16轮, 正确率100.00\n",
      "第17轮, 正确率100.00\n",
      "第18轮, 正确率100.00\n",
      "第19轮, 正确率100.00\n",
      "第20轮, 正确率100.00\n",
      "第21轮, 正确率100.00\n",
      "第22轮, 正确率100.00\n",
      "第23轮, 正确率100.00\n",
      "第24轮, 正确率100.00\n",
      "第25轮, 正确率100.00\n",
      "第26轮, 正确率100.00\n",
      "第27轮, 正确率100.00\n",
      "第28轮, 正确率100.00\n",
      "第29轮, 正确率100.00\n",
      "第30轮, 正确率100.00\n",
      "第31轮, 正确率100.00\n",
      "第32轮, 正确率100.00\n",
      "第33轮, 正确率100.00\n",
      "第34轮, 正确率100.00\n",
      "第35轮, 正确率100.00\n",
      "第36轮, 正确率100.00\n",
      "第37轮, 正确率100.00\n",
      "第38轮, 正确率100.00\n",
      "第39轮, 正确率100.00\n",
      "第40轮, 正确率100.00\n",
      "第41轮, 正确率100.00\n",
      "第42轮, 正确率100.00\n",
      "第43轮, 正确率100.00\n",
      "第44轮, 正确率100.00\n",
      "第45轮, 正确率100.00\n",
      "第46轮, 正确率100.00\n",
      "第47轮, 正确率100.00\n",
      "第48轮, 正确率100.00\n",
      "第49轮, 正确率100.00\n",
      "第50轮, 正确率100.00\n",
      "第51轮, 正确率100.00\n",
      "第52轮, 正确率100.00\n",
      "第53轮, 正确率100.00\n",
      "第54轮, 正确率100.00\n",
      "第55轮, 正确率100.00\n",
      "第56轮, 正确率100.00\n",
      "第57轮, 正确率100.00\n",
      "第58轮, 正确率100.00\n",
      "第59轮, 正确率100.00\n",
      "第60轮, 正确率100.00\n",
      "第61轮, 正确率100.00\n",
      "第62轮, 正确率100.00\n",
      "第63轮, 正确率100.00\n",
      "第64轮, 正确率100.00\n",
      "第65轮, 正确率100.00\n",
      "第66轮, 正确率100.00\n",
      "第67轮, 正确率100.00\n",
      "第68轮, 正确率100.00\n",
      "第69轮, 正确率100.00\n",
      "第70轮, 正确率100.00\n",
      "第71轮, 正确率100.00\n",
      "第72轮, 正确率100.00\n",
      "第73轮, 正确率100.00\n",
      "第74轮, 正确率100.00\n",
      "第75轮, 正确率100.00\n",
      "第76轮, 正确率100.00\n",
      "第77轮, 正确率100.00\n",
      "第78轮, 正确率100.00\n",
      "第79轮, 正确率100.00\n",
      "第80轮, 正确率100.00\n",
      "第81轮, 正确率100.00\n",
      "第82轮, 正确率100.00\n",
      "第83轮, 正确率100.00\n",
      "第84轮, 正确率100.00\n",
      "第85轮, 正确率100.00\n",
      "第86轮, 正确率100.00\n",
      "第87轮, 正确率100.00\n",
      "第88轮, 正确率100.00\n",
      "第89轮, 正确率100.00\n",
      "第90轮, 正确率100.00\n",
      "第91轮, 正确率100.00\n",
      "第92轮, 正确率100.00\n",
      "第93轮, 正确率100.00\n",
      "第94轮, 正确率100.00\n",
      "第95轮, 正确率100.00\n",
      "第96轮, 正确率100.00\n",
      "第97轮, 正确率100.00\n",
      "第98轮, 正确率100.00\n",
      "第99轮, 正确率100.00\n",
      "第100轮, 正确率100.00\n"
     ]
    }
   ],
   "source": [
    "# 训练几轮\n",
    "epoch = 100\n",
    "\n",
    "for i in range(epoch):\n",
    "    correct_count = 0 # 预测正确的次数\n",
    "    for j in range(len(train_x)):\n",
    "        x = train_x[j]\n",
    "        y = train_y[j]\n",
    "        if f(x) != y: # 预测分类和实际分类不一样\n",
    "            if y == 1: # 预测为-1，实际是1，那么扭转w靠近x向量\n",
    "                w = w + x\n",
    "            else: # 预测为1，实际是-1，那么扭转w远离x向量\n",
    "                w = w - x\n",
    "        else:\n",
    "            correct_count += 1\n",
    "    print('第%d轮, 正确率%.2f' % (i+1, correct_count/len(train_x)*100))"
   ]
  },
  {
   "cell_type": "code",
   "execution_count": 55,
   "id": "bound-devices",
   "metadata": {},
   "outputs": [
    {
     "data": {
      "text/plain": [
       "[<matplotlib.lines.Line2D at 0x7f837639e700>]"
      ]
     },
     "execution_count": 55,
     "metadata": {},
     "output_type": "execute_result"
    },
    {
     "data": {
      "image/png": "[encoded data removed]",
      "text/plain": [
       "<Figure size 432x288 with 1 Axes>"
      ]
     },
     "metadata": {
      "needs_background": "light"
     },
     "output_type": "display_data"
    }
   ],
   "source": [
    "plt.scatter(train_x[train_y==-1][:,0], train_x[train_y==-1][:,1], c='red')\n",
    "plt.scatter(train_x[train_y==1][:,0], train_x[train_y==1][:,1], c='green')\n",
    "\n",
    "x1 = np.linspace(0, 600, 10) # 横轴x1\n",
    "x2 = -w[0]*x1/w[1] # 求出与w向量垂直线上的点\n",
    "plt.plot(x1,x2)"
   ]
  }
 ],
 "metadata": {
  "kernelspec": {
   "display_name": "Python 3",
   "language": "python",
   "name": "python3"
  },
  "language_info": {
   "codemirror_mode": {
    "name": "ipython",
    "version": 3
   },
   "file_extension": ".py",
   "mimetype": "text/x-python",
   "name": "python",
   "nbconvert_exporter": "python",
   "pygments_lexer": "ipython3",
   "version": "3.8.8"
  }
 },
 "nbformat": 4,
 "nbformat_minor": 5
}
